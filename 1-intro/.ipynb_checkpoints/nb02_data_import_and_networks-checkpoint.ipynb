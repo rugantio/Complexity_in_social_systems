{
 "cells": [
  {
   "cell_type": "markdown",
   "metadata": {},
   "source": [
    "<center>\n",
    "<h1>Complessità nei sistemi sociali</h1>\n",
    "<h3>Laurea Magistrale in Fisica Dei Sistemi Complessi</h3> \n",
    "<h3>A.A. 2016/17</h3>\n",
    "<h3>Dr. Daniela Paolotti, Dr. Michele Tizzoni</h3>\n",
    "<h2>Notebook 2 - Data import and network representation</h2>\n",
    "</center>"
   ]
  },
  {
   "cell_type": "markdown",
   "metadata": {},
   "source": [
    "Here, we play a bit with some network datasets."
   ]
  },
  {
   "cell_type": "markdown",
   "metadata": {},
   "source": [
    "We analyze the dataset 'cit-HepTh' available from the SNAP repository: http://snap.stanford.edu/data/index.html\n",
    "\n",
    "There are several other repositories of network datasets, for instance:\n",
    "- http://konect.uni-koblenz.de/\n",
    "- http://www-personal.umich.edu/~mejn/netdata/\n",
    "- http://networkrepository.com/\n",
    "- http://cnets.indiana.edu/resources/data-repository/\n",
    "- http://www.sociopatterns.org/datasets/"
   ]
  },
  {
   "cell_type": "code",
   "execution_count": 3,
   "metadata": {
    "collapsed": true
   },
   "outputs": [],
   "source": [
    "import sys, math"
   ]
  },
  {
   "cell_type": "code",
   "execution_count": 8,
   "metadata": {
    "collapsed": true
   },
   "outputs": [],
   "source": [
    "%matplotlib inline"
   ]
  },
  {
   "cell_type": "markdown",
   "metadata": {},
   "source": [
    "# Basic network import and representation"
   ]
  },
  {
   "cell_type": "code",
   "execution_count": 9,
   "metadata": {
    "collapsed": true
   },
   "outputs": [],
   "source": [
    "import collections as col"
   ]
  },
  {
   "cell_type": "markdown",
   "metadata": {},
   "source": [
    "We use a dictionary that associates a key (node) to a list of nodes (neighbours)"
   ]
  },
  {
   "cell_type": "code",
   "execution_count": 11,
   "metadata": {},
   "outputs": [
    {
     "name": "stdout",
     "output_type": "stream",
     "text": [
      "defaultdict(<class 'list'>, {})\n"
     ]
    }
   ],
   "source": [
    "links_out=col.defaultdict(list)\n",
    "print (links_out)"
   ]
  },
  {
   "cell_type": "markdown",
   "metadata": {},
   "source": [
    "We open the file containing the network and read each line"
   ]
  },
  {
   "cell_type": "code",
   "execution_count": 29,
   "metadata": {
    "collapsed": true
   },
   "outputs": [],
   "source": [
    "fh=open('./cit-HepTh.txt','r')"
   ]
  },
  {
   "cell_type": "code",
   "execution_count": 30,
   "metadata": {
    "collapsed": true
   },
   "outputs": [],
   "source": [
    "s=fh.readlines()"
   ]
  },
  {
   "cell_type": "code",
   "execution_count": 31,
   "metadata": {},
   "outputs": [
    {
     "data": {
      "text/plain": [
       "['# Directed graph (each unordered pair of nodes is saved once): Cit-HepTh.txt \\n',\n",
       " '# Paper citation network of Arxiv High Energy Physics Theory category\\n',\n",
       " '# Nodes: 27770 Edges: 352807\\n',\n",
       " '# FromNodeId\\tToNodeId\\n',\n",
       " '1001\\t9304045\\n']"
      ]
     },
     "execution_count": 31,
     "metadata": {},
     "output_type": "execute_result"
    }
   ],
   "source": [
    "s[:5]"
   ]
  },
  {
   "cell_type": "code",
   "execution_count": 32,
   "metadata": {},
   "outputs": [
    {
     "data": {
      "text/plain": [
       "'# Directed graph (each unordered pair of nodes is saved once): Cit-HepTh.txt'"
      ]
     },
     "execution_count": 32,
     "metadata": {},
     "output_type": "execute_result"
    }
   ],
   "source": [
    "s[0].strip()"
   ]
  },
  {
   "cell_type": "code",
   "execution_count": 34,
   "metadata": {
    "collapsed": true
   },
   "outputs": [],
   "source": [
    "for line in s:\n",
    "    #remove \"\\n\" characters (.strip()) and split the line at blank spaces (split.())\n",
    "    t=line.strip().split()\n",
    "    if t[0]!='#':\n",
    "        #the first lines are comments\n",
    "        origin=int(t[0])\n",
    "        dest=int(t[1])\n",
    "        links_out[origin].append(dest)\n",
    "    \n",
    "#close the file\n",
    "fh.close()"
   ]
  },
  {
   "cell_type": "markdown",
   "metadata": {},
   "source": [
    "How many nodes are in the network?"
   ]
  },
  {
   "cell_type": "code",
   "execution_count": 35,
   "metadata": {},
   "outputs": [
    {
     "name": "stdout",
     "output_type": "stream",
     "text": [
      "25059\n"
     ]
    }
   ],
   "source": [
    "tot_nodes=len(links_out)\n",
    "print (tot_nodes)"
   ]
  },
  {
   "cell_type": "markdown",
   "metadata": {},
   "source": [
    "We calculate the out-degree distribution of the network."
   ]
  },
  {
   "cell_type": "code",
   "execution_count": 45,
   "metadata": {
    "collapsed": true
   },
   "outputs": [],
   "source": [
    "degree={}\n",
    "\n",
    "for i in links_out:\n",
    "\n",
    "    deg=len(links_out[i])\n",
    "\n",
    "    if deg in degree:\n",
    "        degree[deg]+=1\n",
    "    else:\n",
    "        degree[deg]=1"
   ]
  },
  {
   "cell_type": "code",
   "execution_count": 46,
   "metadata": {},
   "outputs": [
    {
     "name": "stdout",
     "output_type": "stream",
     "text": [
      "dict_keys([249, 3, 21, 12, 6, 120, 27, 81, 30, 42, 63, 75, 51, 45, 57, 48, 87, 159, 84, 66, 111, 117, 105, 60, 78, 96, 69, 18, 33, 90, 123, 195, 72, 93, 102, 168, 54, 39, 174, 108, 24, 126, 141, 156, 114, 15, 9, 216, 363, 162, 225, 36, 165, 252, 177, 99, 153, 138, 189, 132, 150, 219, 213, 222, 135, 495, 378, 642, 1686, 204, 192, 144, 171, 402, 147, 648, 462, 183, 477, 255, 1077, 129, 234, 180, 186, 198, 471, 201, 294, 210, 345, 312, 258, 621, 297, 327, 243, 369, 291, 300, 501, 273, 603, 207, 375, 231, 267, 237, 261, 270, 246, 318, 789, 429, 306, 240, 474, 285, 543, 822, 228, 366, 525, 447, 636, 303, 906, 288, 360, 600, 324, 678, 426, 321, 264, 738, 480, 282, 279, 405, 438, 633, 372, 594, 531, 867, 507, 540, 510, 468, 276, 309, 417, 408, 336])\n"
     ]
    }
   ],
   "source": [
    "print (degree.keys())"
   ]
  },
  {
   "cell_type": "markdown",
   "metadata": {},
   "source": [
    "We export the degree distribution to an output file."
   ]
  },
  {
   "cell_type": "code",
   "execution_count": 39,
   "metadata": {
    "collapsed": true
   },
   "outputs": [],
   "source": [
    "s_deg=sorted(degree.keys())"
   ]
  },
  {
   "cell_type": "code",
   "execution_count": 40,
   "metadata": {
    "collapsed": true
   },
   "outputs": [],
   "source": [
    "fout=open('./degree_out_distri.dat','w')\n",
    "for d in s_deg:\n",
    "    deg_freq=float(degree[d])/tot_nodes \n",
    "    fout.write(str(d)+'  '+str(deg_freq)+'\\n')\n",
    "fout.close()"
   ]
  },
  {
   "cell_type": "code",
   "execution_count": 47,
   "metadata": {},
   "outputs": [
    {
     "name": "stdout",
     "output_type": "stream",
     "text": [
      "(249, 6)\n",
      "(3, 2449)\n",
      "(21, 1087)\n",
      "(12, 1405)\n",
      "(6, 1951)\n",
      "(120, 104)\n",
      "(27, 847)\n",
      "(81, 250)\n",
      "(30, 790)\n",
      "(42, 622)\n",
      "(63, 398)\n",
      "(75, 333)\n",
      "(51, 503)\n",
      "(45, 556)\n",
      "(57, 429)\n",
      "(48, 519)\n",
      "(87, 246)\n",
      "(159, 32)\n",
      "(84, 244)\n",
      "(66, 384)\n",
      "(111, 135)\n",
      "(117, 114)\n",
      "(105, 162)\n",
      "(60, 412)\n",
      "(78, 284)\n",
      "(96, 194)\n",
      "(69, 339)\n",
      "(18, 1172)\n",
      "(33, 771)\n",
      "(90, 240)\n",
      "(123, 98)\n",
      "(195, 17)\n",
      "(72, 304)\n",
      "(93, 184)\n",
      "(102, 166)\n",
      "(168, 31)\n",
      "(54, 498)\n",
      "(39, 640)\n",
      "(174, 35)\n",
      "(108, 149)\n",
      "(24, 975)\n",
      "(126, 91)\n",
      "(141, 60)\n",
      "(156, 39)\n",
      "(114, 111)\n",
      "(15, 1272)\n",
      "(9, 1657)\n",
      "(216, 6)\n",
      "(363, 4)\n",
      "(162, 34)\n",
      "(225, 8)\n",
      "(36, 651)\n",
      "(165, 37)\n",
      "(252, 4)\n",
      "(177, 23)\n",
      "(99, 160)\n",
      "(153, 45)\n",
      "(138, 55)\n",
      "(189, 23)\n",
      "(132, 77)\n",
      "(150, 45)\n",
      "(219, 11)\n",
      "(213, 13)\n",
      "(222, 7)\n",
      "(135, 61)\n",
      "(495, 1)\n",
      "(378, 2)\n",
      "(642, 1)\n",
      "(1686, 1)\n",
      "(204, 10)\n",
      "(192, 17)\n",
      "(144, 51)\n",
      "(171, 33)\n",
      "(402, 3)\n",
      "(147, 48)\n",
      "(648, 1)\n",
      "(462, 3)\n",
      "(183, 10)\n",
      "(477, 1)\n",
      "(255, 3)\n",
      "(1077, 1)\n",
      "(129, 81)\n",
      "(234, 7)\n",
      "(180, 14)\n",
      "(186, 16)\n",
      "(198, 15)\n",
      "(471, 1)\n",
      "(201, 14)\n",
      "(294, 1)\n",
      "(210, 14)\n",
      "(345, 2)\n",
      "(312, 4)\n",
      "(258, 5)\n",
      "(621, 1)\n",
      "(297, 4)\n",
      "(327, 2)\n",
      "(243, 5)\n",
      "(369, 1)\n",
      "(291, 2)\n",
      "(300, 1)\n",
      "(501, 1)\n",
      "(273, 2)\n",
      "(603, 1)\n",
      "(207, 13)\n",
      "(375, 1)\n",
      "(231, 8)\n",
      "(267, 4)\n",
      "(237, 6)\n",
      "(261, 1)\n",
      "(270, 5)\n",
      "(246, 5)\n",
      "(318, 4)\n",
      "(789, 1)\n",
      "(429, 1)\n",
      "(306, 1)\n",
      "(240, 5)\n",
      "(474, 1)\n",
      "(285, 3)\n",
      "(543, 1)\n",
      "(822, 1)\n",
      "(228, 4)\n",
      "(366, 2)\n",
      "(525, 1)\n",
      "(447, 1)\n",
      "(636, 1)\n",
      "(303, 2)\n",
      "(906, 1)\n",
      "(288, 3)\n",
      "(360, 2)\n",
      "(600, 1)\n",
      "(324, 2)\n",
      "(678, 1)\n",
      "(426, 1)\n",
      "(321, 1)\n",
      "(264, 3)\n",
      "(738, 1)\n",
      "(480, 1)\n",
      "(282, 1)\n",
      "(279, 4)\n",
      "(405, 1)\n",
      "(438, 1)\n",
      "(633, 1)\n",
      "(372, 1)\n",
      "(594, 1)\n",
      "(531, 1)\n",
      "(867, 1)\n",
      "(507, 1)\n",
      "(540, 1)\n",
      "(510, 1)\n",
      "(468, 1)\n",
      "(276, 1)\n",
      "(309, 1)\n",
      "(417, 1)\n",
      "(408, 1)\n",
      "(336, 1)\n"
     ]
    }
   ],
   "source": [
    "for i in degree.items():\n",
    "    print (i)"
   ]
  },
  {
   "cell_type": "code",
   "execution_count": 49,
   "metadata": {
    "collapsed": true
   },
   "outputs": [],
   "source": [
    "from operator import itemgetter"
   ]
  },
  {
   "cell_type": "code",
   "execution_count": 50,
   "metadata": {},
   "outputs": [
    {
     "data": {
      "image/png": "[encoded data removed]",
      "text/plain": [
       "<matplotlib.figure.Figure at 0x7f2bc99b8390>"
      ]
     },
     "metadata": {},
     "output_type": "display_data"
    }
   ],
   "source": [
    "x=[]\n",
    "y=[]\n",
    "for i in sorted(degree.items(), key=itemgetter(0)):\n",
    "    x.append(i[0])\n",
    "    y.append(float(i[1])/tot_nodes)\n",
    "\n",
    "plt.figure(figsize=(10,7))   \n",
    "plt.plot(x,y)\n",
    "plt.xlabel('$k_{out}$', fontsize=24)\n",
    "plt.ylabel('$P(k_{out})$', fontsize=24)\n",
    "plt.xticks(fontsize=14)\n",
    "plt.yticks(fontsize=14)\n",
    "plt.yscale('log')\n",
    "plt.xscale('log')\n",
    "plt.show()"
   ]
  },
  {
   "cell_type": "markdown",
   "metadata": {},
   "source": [
    "Let's have a look at the degree-in distribution."
   ]
  },
  {
   "cell_type": "code",
   "execution_count": 51,
   "metadata": {
    "collapsed": true
   },
   "outputs": [],
   "source": [
    "links_in=col.defaultdict(list)\n",
    "\n",
    "fh=open('./cit-HepTh.txt','r')\n",
    "#reading all the file lines\n",
    "for line in fh.readlines():\n",
    "    #remove \"\\n\" characters (.strip()) and split the line at blank spaces (split.())\n",
    "    s=line.strip().split()\n",
    "    if s[0]!='#':\n",
    "        #the first lines are comments\n",
    "        origin=int(s[0])\n",
    "        dest=int(s[1])\n",
    "        links_in[dest].append(origin)\n",
    "    \n",
    "#chiudo il file\n",
    "fh.close()"
   ]
  },
  {
   "cell_type": "code",
   "execution_count": 53,
   "metadata": {},
   "outputs": [
    {
     "name": "stdout",
     "output_type": "stream",
     "text": [
      "23180\n"
     ]
    }
   ],
   "source": [
    "degree_in=col.defaultdict(int)\n",
    "for i in links_in.keys():\n",
    "    deg=len(links_in[i])\n",
    "    degree_in[deg]+=1\n",
    "\n",
    "tot_nodes_in=len(links_in)\n",
    "print (tot_nodes_in)"
   ]
  },
  {
   "cell_type": "markdown",
   "metadata": {},
   "source": [
    "What is the difference from an exponential distribution?"
   ]
  },
  {
   "cell_type": "code",
   "execution_count": 55,
   "metadata": {},
   "outputs": [
    {
     "data": {
      "image/png": "[encoded data removed]",
      "text/plain": [
       "<matplotlib.figure.Figure at 0x7f2bc9771518>"
      ]
     },
     "metadata": {},
     "output_type": "display_data"
    }
   ],
   "source": [
    "def f(t):\n",
    "    return np.exp(-0.5*t)\n",
    "\n",
    "x=[]\n",
    "y=[]\n",
    "for i in sorted(degree_in.items(), key=itemgetter(0)):\n",
    "    x.append(i[0])\n",
    "    y.append(float(i[1])/tot_nodes_in)\n",
    "\n",
    "plt.figure(figsize=(10,7))   \n",
    "    \n",
    "plt.plot(np.array(x),np.array(y))\n",
    "plt.plot(np.array(x), f(np.array(x)), label='Exponential')\n",
    "plt.xlabel('$k_{in}$', fontsize=24)\n",
    "plt.ylabel('$P(k_{in})$', fontsize=24)\n",
    "plt.yscale('log')\n",
    "plt.xscale('log')\n",
    "plt.axis([1,10000,0.00001,1])\n",
    "plt.legend()\n",
    "plt.show()"
   ]
  }
 ],
 "metadata": {
  "kernelspec": {
   "display_name": "Python 3",
   "language": "python",
   "name": "python3"
  },
  "language_info": {
   "codemirror_mode": {
    "name": "ipython",
    "version": 3
   },
   "file_extension": ".py",
   "mimetype": "text/x-python",
   "name": "python",
   "nbconvert_exporter": "python",
   "pygments_lexer": "ipython3",
   "version": "3.6.1"
  }
 },
 "nbformat": 4,
 "nbformat_minor": 1
}
